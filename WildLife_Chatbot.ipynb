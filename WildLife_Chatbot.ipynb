{
  "nbformat": 4,
  "nbformat_minor": 0,
  "metadata": {
    "colab": {
      "provenance": [],
      "mount_file_id": "1JAh3wN0rH1DLmcM0J-mkfLkONPTSVVbr",
      "authorship_tag": "ABX9TyOR+wQn4NuXVt+YD+At5mi0",
      "include_colab_link": true
    },
    "kernelspec": {
      "name": "python3",
      "display_name": "Python 3"
    },
    "language_info": {
      "name": "python"
    }
  },
  "cells": [
    {
      "cell_type": "markdown",
      "metadata": {
        "id": "view-in-github",
        "colab_type": "text"
      },
      "source": [
        "<a href=\"https://colab.research.google.com/github/Geu-Pro2023/Streamlit-ML/blob/main/WildLife_Chatbot.ipynb\" target=\"_parent\"><img src=\"https://colab.research.google.com/assets/colab-badge.svg\" alt=\"Open In Colab\"/></a>"
      ]
    },
    {
      "cell_type": "markdown",
      "source": [
        "\n",
        "# **WildGuard Conservation Chatbot**"
      ],
      "metadata": {
        "id": "bEO2iRoz5wtV"
      }
    },
    {
      "cell_type": "markdown",
      "source": [
        "### **Import Libaries**"
      ],
      "metadata": {
        "id": "g36DEB1j6BhE"
      }
    },
    {
      "cell_type": "code",
      "execution_count": 49,
      "metadata": {
        "id": "Myycg-a95o-y"
      },
      "outputs": [],
      "source": [
        "# Import the essential Libraries\n",
        "import pandas as pd\n",
        "import numpy as np\n",
        "import random\n",
        "import pickle\n",
        "import re\n",
        "import torch\n",
        "from sklearn.metrics import accuracy_score, f1_score, confusion_matrix\n",
        "import string\n",
        "from collections import Counter\n",
        "import matplotlib.pyplot as plt\n",
        "import seaborn as sns\n",
        "from wordcloud import WordCloud\n",
        "from transformers import GPT2Tokenizer, GPT2LMHeadModel, TextDataset, DataCollatorForLanguageModeling\n",
        "from transformers import Trainer, TrainingArguments, pipeline\n",
        "from datasets import Dataset, load_metric\n",
        "from sklearn.model_selection import train_test_split\n",
        "import gradio as gr\n",
        "from transformers import BertTokenizer, BertModel\n",
        "from sklearn.preprocessing import LabelBinarizer\n",
        "import nltk\n",
        "import json\n",
        "from nltk.stem import WordNetLemmatizer\n",
        "from tensorflow.keras.models import Sequential\n",
        "from tensorflow.keras.layers import Dense, Dropout\n",
        "from tensorflow.keras.optimizers import SGD\n",
        "from tensorflow.keras.optimizers.schedules import ExponentialDecay"
      ]
    },
    {
      "cell_type": "code",
      "source": [
        "# Download required NLTK data\n",
        "nltk.download('punkt')\n",
        "nltk.download('wordnet')"
      ],
      "metadata": {
        "colab": {
          "base_uri": "https://localhost:8080/"
        },
        "id": "snkrJH_XAVBB",
        "outputId": "f3c09578-6500-4cdb-8889-e05f5eb97391"
      },
      "execution_count": 24,
      "outputs": [
        {
          "output_type": "stream",
          "name": "stderr",
          "text": [
            "[nltk_data] Downloading package punkt to /root/nltk_data...\n",
            "[nltk_data]   Package punkt is already up-to-date!\n",
            "[nltk_data] Downloading package wordnet to /root/nltk_data...\n",
            "[nltk_data]   Package wordnet is already up-to-date!\n"
          ]
        },
        {
          "output_type": "execute_result",
          "data": {
            "text/plain": [
              "True"
            ]
          },
          "metadata": {},
          "execution_count": 24
        }
      ]
    },
    {
      "cell_type": "markdown",
      "source": [
        "## **Loading the Dataset**"
      ],
      "metadata": {
        "id": "eF9D2Qqy6V_D"
      }
    },
    {
      "cell_type": "code",
      "source": [
        "# Load the dataset\n",
        "df = pd.read_csv('/content/drive/MyDrive/Wildlife_Chatbot/wildlifebot_dataset.csv')"
      ],
      "metadata": {
        "id": "UXq95CR66MRI"
      },
      "execution_count": 26,
      "outputs": []
    },
    {
      "cell_type": "code",
      "source": [
        "# Display the first few rows of dataset\n",
        "df.tail(10)"
      ],
      "metadata": {
        "colab": {
          "base_uri": "https://localhost:8080/",
          "height": 362
        },
        "id": "WabBtxUd9O22",
        "outputId": "ce09626e-a9d0-4fac-cbc9-1911c3adc284"
      },
      "execution_count": 27,
      "outputs": [
        {
          "output_type": "execute_result",
          "data": {
            "text/plain": [
              "                    Catergory                                      Question  \\\n",
              "4442  eco_friendly_activities                 Can gaming help conservation?   \n",
              "4443              myths_facts                   Are hyenas just scavengers?   \n",
              "4444              myths_facts            Do koalas get drunk on eucalyptus?   \n",
              "4445              myths_facts                           Can crocodiles cry?   \n",
              "4446              emergencies               Found a baby bird—what do I do?   \n",
              "4447              emergencies                How to help oil-covered birds?   \n",
              "4448              emergencies                           Snake in my garage!   \n",
              "4449           climate_change  How does warming affect monarch butterflies?   \n",
              "4450           climate_change              Are there climate-friendly zoos?   \n",
              "4451           climate_change         Can kelp forests slow climate change?   \n",
              "\n",
              "                                                 Answer  \n",
              "4442    Yes! Games like Eco simulate ecosystem balance.  \n",
              "4443  No! They’re skilled hunters and only scavenge ...  \n",
              "4444  Myth! They’re just sluggish because the leaves...  \n",
              "4445  They “cry” to clean their eyes, not from sadness.  \n",
              "4446  Leave it! Parents often nearby. If injured, ca...  \n",
              "4447  Never touch them—call professionals like IFAW ...  \n",
              "4448  Stay back and call animal control—most snakes ...  \n",
              "4449  It disrupts migration timing and milkweed growth.  \n",
              "4450  Yes! Many use solar power and recycle water to...  \n",
              "4451  Yes! They absorb CO2 20x faster than land fore...  "
            ],
            "text/html": [
              "\n",
              "  <div id=\"df-3c5f3bc6-d926-4161-9257-20627ff37797\" class=\"colab-df-container\">\n",
              "    <div>\n",
              "<style scoped>\n",
              "    .dataframe tbody tr th:only-of-type {\n",
              "        vertical-align: middle;\n",
              "    }\n",
              "\n",
              "    .dataframe tbody tr th {\n",
              "        vertical-align: top;\n",
              "    }\n",
              "\n",
              "    .dataframe thead th {\n",
              "        text-align: right;\n",
              "    }\n",
              "</style>\n",
              "<table border=\"1\" class=\"dataframe\">\n",
              "  <thead>\n",
              "    <tr style=\"text-align: right;\">\n",
              "      <th></th>\n",
              "      <th>Catergory</th>\n",
              "      <th>Question</th>\n",
              "      <th>Answer</th>\n",
              "    </tr>\n",
              "  </thead>\n",
              "  <tbody>\n",
              "    <tr>\n",
              "      <th>4442</th>\n",
              "      <td>eco_friendly_activities</td>\n",
              "      <td>Can gaming help conservation?</td>\n",
              "      <td>Yes! Games like Eco simulate ecosystem balance.</td>\n",
              "    </tr>\n",
              "    <tr>\n",
              "      <th>4443</th>\n",
              "      <td>myths_facts</td>\n",
              "      <td>Are hyenas just scavengers?</td>\n",
              "      <td>No! They’re skilled hunters and only scavenge ...</td>\n",
              "    </tr>\n",
              "    <tr>\n",
              "      <th>4444</th>\n",
              "      <td>myths_facts</td>\n",
              "      <td>Do koalas get drunk on eucalyptus?</td>\n",
              "      <td>Myth! They’re just sluggish because the leaves...</td>\n",
              "    </tr>\n",
              "    <tr>\n",
              "      <th>4445</th>\n",
              "      <td>myths_facts</td>\n",
              "      <td>Can crocodiles cry?</td>\n",
              "      <td>They “cry” to clean their eyes, not from sadness.</td>\n",
              "    </tr>\n",
              "    <tr>\n",
              "      <th>4446</th>\n",
              "      <td>emergencies</td>\n",
              "      <td>Found a baby bird—what do I do?</td>\n",
              "      <td>Leave it! Parents often nearby. If injured, ca...</td>\n",
              "    </tr>\n",
              "    <tr>\n",
              "      <th>4447</th>\n",
              "      <td>emergencies</td>\n",
              "      <td>How to help oil-covered birds?</td>\n",
              "      <td>Never touch them—call professionals like IFAW ...</td>\n",
              "    </tr>\n",
              "    <tr>\n",
              "      <th>4448</th>\n",
              "      <td>emergencies</td>\n",
              "      <td>Snake in my garage!</td>\n",
              "      <td>Stay back and call animal control—most snakes ...</td>\n",
              "    </tr>\n",
              "    <tr>\n",
              "      <th>4449</th>\n",
              "      <td>climate_change</td>\n",
              "      <td>How does warming affect monarch butterflies?</td>\n",
              "      <td>It disrupts migration timing and milkweed growth.</td>\n",
              "    </tr>\n",
              "    <tr>\n",
              "      <th>4450</th>\n",
              "      <td>climate_change</td>\n",
              "      <td>Are there climate-friendly zoos?</td>\n",
              "      <td>Yes! Many use solar power and recycle water to...</td>\n",
              "    </tr>\n",
              "    <tr>\n",
              "      <th>4451</th>\n",
              "      <td>climate_change</td>\n",
              "      <td>Can kelp forests slow climate change?</td>\n",
              "      <td>Yes! They absorb CO2 20x faster than land fore...</td>\n",
              "    </tr>\n",
              "  </tbody>\n",
              "</table>\n",
              "</div>\n",
              "    <div class=\"colab-df-buttons\">\n",
              "\n",
              "  <div class=\"colab-df-container\">\n",
              "    <button class=\"colab-df-convert\" onclick=\"convertToInteractive('df-3c5f3bc6-d926-4161-9257-20627ff37797')\"\n",
              "            title=\"Convert this dataframe to an interactive table.\"\n",
              "            style=\"display:none;\">\n",
              "\n",
              "  <svg xmlns=\"http://www.w3.org/2000/svg\" height=\"24px\" viewBox=\"0 -960 960 960\">\n",
              "    <path d=\"M120-120v-720h720v720H120Zm60-500h600v-160H180v160Zm220 220h160v-160H400v160Zm0 220h160v-160H400v160ZM180-400h160v-160H180v160Zm440 0h160v-160H620v160ZM180-180h160v-160H180v160Zm440 0h160v-160H620v160Z\"/>\n",
              "  </svg>\n",
              "    </button>\n",
              "\n",
              "  <style>\n",
              "    .colab-df-container {\n",
              "      display:flex;\n",
              "      gap: 12px;\n",
              "    }\n",
              "\n",
              "    .colab-df-convert {\n",
              "      background-color: #E8F0FE;\n",
              "      border: none;\n",
              "      border-radius: 50%;\n",
              "      cursor: pointer;\n",
              "      display: none;\n",
              "      fill: #1967D2;\n",
              "      height: 32px;\n",
              "      padding: 0 0 0 0;\n",
              "      width: 32px;\n",
              "    }\n",
              "\n",
              "    .colab-df-convert:hover {\n",
              "      background-color: #E2EBFA;\n",
              "      box-shadow: 0px 1px 2px rgba(60, 64, 67, 0.3), 0px 1px 3px 1px rgba(60, 64, 67, 0.15);\n",
              "      fill: #174EA6;\n",
              "    }\n",
              "\n",
              "    .colab-df-buttons div {\n",
              "      margin-bottom: 4px;\n",
              "    }\n",
              "\n",
              "    [theme=dark] .colab-df-convert {\n",
              "      background-color: #3B4455;\n",
              "      fill: #D2E3FC;\n",
              "    }\n",
              "\n",
              "    [theme=dark] .colab-df-convert:hover {\n",
              "      background-color: #434B5C;\n",
              "      box-shadow: 0px 1px 3px 1px rgba(0, 0, 0, 0.15);\n",
              "      filter: drop-shadow(0px 1px 2px rgba(0, 0, 0, 0.3));\n",
              "      fill: #FFFFFF;\n",
              "    }\n",
              "  </style>\n",
              "\n",
              "    <script>\n",
              "      const buttonEl =\n",
              "        document.querySelector('#df-3c5f3bc6-d926-4161-9257-20627ff37797 button.colab-df-convert');\n",
              "      buttonEl.style.display =\n",
              "        google.colab.kernel.accessAllowed ? 'block' : 'none';\n",
              "\n",
              "      async function convertToInteractive(key) {\n",
              "        const element = document.querySelector('#df-3c5f3bc6-d926-4161-9257-20627ff37797');\n",
              "        const dataTable =\n",
              "          await google.colab.kernel.invokeFunction('convertToInteractive',\n",
              "                                                    [key], {});\n",
              "        if (!dataTable) return;\n",
              "\n",
              "        const docLinkHtml = 'Like what you see? Visit the ' +\n",
              "          '<a target=\"_blank\" href=https://colab.research.google.com/notebooks/data_table.ipynb>data table notebook</a>'\n",
              "          + ' to learn more about interactive tables.';\n",
              "        element.innerHTML = '';\n",
              "        dataTable['output_type'] = 'display_data';\n",
              "        await google.colab.output.renderOutput(dataTable, element);\n",
              "        const docLink = document.createElement('div');\n",
              "        docLink.innerHTML = docLinkHtml;\n",
              "        element.appendChild(docLink);\n",
              "      }\n",
              "    </script>\n",
              "  </div>\n",
              "\n",
              "\n",
              "    <div id=\"df-8c7888a8-3ceb-41cd-86a8-24a9f64b94f2\">\n",
              "      <button class=\"colab-df-quickchart\" onclick=\"quickchart('df-8c7888a8-3ceb-41cd-86a8-24a9f64b94f2')\"\n",
              "                title=\"Suggest charts\"\n",
              "                style=\"display:none;\">\n",
              "\n",
              "<svg xmlns=\"http://www.w3.org/2000/svg\" height=\"24px\"viewBox=\"0 0 24 24\"\n",
              "     width=\"24px\">\n",
              "    <g>\n",
              "        <path d=\"M19 3H5c-1.1 0-2 .9-2 2v14c0 1.1.9 2 2 2h14c1.1 0 2-.9 2-2V5c0-1.1-.9-2-2-2zM9 17H7v-7h2v7zm4 0h-2V7h2v10zm4 0h-2v-4h2v4z\"/>\n",
              "    </g>\n",
              "</svg>\n",
              "      </button>\n",
              "\n",
              "<style>\n",
              "  .colab-df-quickchart {\n",
              "      --bg-color: #E8F0FE;\n",
              "      --fill-color: #1967D2;\n",
              "      --hover-bg-color: #E2EBFA;\n",
              "      --hover-fill-color: #174EA6;\n",
              "      --disabled-fill-color: #AAA;\n",
              "      --disabled-bg-color: #DDD;\n",
              "  }\n",
              "\n",
              "  [theme=dark] .colab-df-quickchart {\n",
              "      --bg-color: #3B4455;\n",
              "      --fill-color: #D2E3FC;\n",
              "      --hover-bg-color: #434B5C;\n",
              "      --hover-fill-color: #FFFFFF;\n",
              "      --disabled-bg-color: #3B4455;\n",
              "      --disabled-fill-color: #666;\n",
              "  }\n",
              "\n",
              "  .colab-df-quickchart {\n",
              "    background-color: var(--bg-color);\n",
              "    border: none;\n",
              "    border-radius: 50%;\n",
              "    cursor: pointer;\n",
              "    display: none;\n",
              "    fill: var(--fill-color);\n",
              "    height: 32px;\n",
              "    padding: 0;\n",
              "    width: 32px;\n",
              "  }\n",
              "\n",
              "  .colab-df-quickchart:hover {\n",
              "    background-color: var(--hover-bg-color);\n",
              "    box-shadow: 0 1px 2px rgba(60, 64, 67, 0.3), 0 1px 3px 1px rgba(60, 64, 67, 0.15);\n",
              "    fill: var(--button-hover-fill-color);\n",
              "  }\n",
              "\n",
              "  .colab-df-quickchart-complete:disabled,\n",
              "  .colab-df-quickchart-complete:disabled:hover {\n",
              "    background-color: var(--disabled-bg-color);\n",
              "    fill: var(--disabled-fill-color);\n",
              "    box-shadow: none;\n",
              "  }\n",
              "\n",
              "  .colab-df-spinner {\n",
              "    border: 2px solid var(--fill-color);\n",
              "    border-color: transparent;\n",
              "    border-bottom-color: var(--fill-color);\n",
              "    animation:\n",
              "      spin 1s steps(1) infinite;\n",
              "  }\n",
              "\n",
              "  @keyframes spin {\n",
              "    0% {\n",
              "      border-color: transparent;\n",
              "      border-bottom-color: var(--fill-color);\n",
              "      border-left-color: var(--fill-color);\n",
              "    }\n",
              "    20% {\n",
              "      border-color: transparent;\n",
              "      border-left-color: var(--fill-color);\n",
              "      border-top-color: var(--fill-color);\n",
              "    }\n",
              "    30% {\n",
              "      border-color: transparent;\n",
              "      border-left-color: var(--fill-color);\n",
              "      border-top-color: var(--fill-color);\n",
              "      border-right-color: var(--fill-color);\n",
              "    }\n",
              "    40% {\n",
              "      border-color: transparent;\n",
              "      border-right-color: var(--fill-color);\n",
              "      border-top-color: var(--fill-color);\n",
              "    }\n",
              "    60% {\n",
              "      border-color: transparent;\n",
              "      border-right-color: var(--fill-color);\n",
              "    }\n",
              "    80% {\n",
              "      border-color: transparent;\n",
              "      border-right-color: var(--fill-color);\n",
              "      border-bottom-color: var(--fill-color);\n",
              "    }\n",
              "    90% {\n",
              "      border-color: transparent;\n",
              "      border-bottom-color: var(--fill-color);\n",
              "    }\n",
              "  }\n",
              "</style>\n",
              "\n",
              "      <script>\n",
              "        async function quickchart(key) {\n",
              "          const quickchartButtonEl =\n",
              "            document.querySelector('#' + key + ' button');\n",
              "          quickchartButtonEl.disabled = true;  // To prevent multiple clicks.\n",
              "          quickchartButtonEl.classList.add('colab-df-spinner');\n",
              "          try {\n",
              "            const charts = await google.colab.kernel.invokeFunction(\n",
              "                'suggestCharts', [key], {});\n",
              "          } catch (error) {\n",
              "            console.error('Error during call to suggestCharts:', error);\n",
              "          }\n",
              "          quickchartButtonEl.classList.remove('colab-df-spinner');\n",
              "          quickchartButtonEl.classList.add('colab-df-quickchart-complete');\n",
              "        }\n",
              "        (() => {\n",
              "          let quickchartButtonEl =\n",
              "            document.querySelector('#df-8c7888a8-3ceb-41cd-86a8-24a9f64b94f2 button');\n",
              "          quickchartButtonEl.style.display =\n",
              "            google.colab.kernel.accessAllowed ? 'block' : 'none';\n",
              "        })();\n",
              "      </script>\n",
              "    </div>\n",
              "\n",
              "    </div>\n",
              "  </div>\n"
            ],
            "application/vnd.google.colaboratory.intrinsic+json": {
              "type": "dataframe",
              "summary": "{\n  \"name\": \"df\",\n  \"rows\": 10,\n  \"fields\": [\n    {\n      \"column\": \"Catergory\",\n      \"properties\": {\n        \"dtype\": \"category\",\n        \"num_unique_values\": 4,\n        \"samples\": [\n          \"myths_facts\",\n          \"climate_change\",\n          \"eco_friendly_activities\"\n        ],\n        \"semantic_type\": \"\",\n        \"description\": \"\"\n      }\n    },\n    {\n      \"column\": \"Question\",\n      \"properties\": {\n        \"dtype\": \"string\",\n        \"num_unique_values\": 10,\n        \"samples\": [\n          \"Are there climate-friendly zoos?\",\n          \"Are hyenas just scavengers?\",\n          \"How to help oil-covered birds?\"\n        ],\n        \"semantic_type\": \"\",\n        \"description\": \"\"\n      }\n    },\n    {\n      \"column\": \"Answer\",\n      \"properties\": {\n        \"dtype\": \"string\",\n        \"num_unique_values\": 10,\n        \"samples\": [\n          \"Yes! Many use solar power and recycle water to reduce impact.\",\n          \"No! They\\u2019re skilled hunters and only scavenge 30% of their food.\",\n          \"Never touch them\\u2014call professionals like IFAW or local rescues.\"\n        ],\n        \"semantic_type\": \"\",\n        \"description\": \"\"\n      }\n    }\n  ]\n}"
            }
          },
          "metadata": {},
          "execution_count": 27
        }
      ]
    },
    {
      "cell_type": "markdown",
      "source": [
        "## **Data Exploration**"
      ],
      "metadata": {
        "id": "gRhj59Wn_888"
      }
    },
    {
      "cell_type": "code",
      "source": [
        "# Load and Explore Data\n",
        "print(\"Loading dataset...\")\n",
        "\n",
        "print(\"\\nDataset Overview:\")\n",
        "print(f\"Total samples: {len(df)}\")\n",
        "print(\"\\nSample distribution by Catergory:\")\n",
        "print(df['Catergory'].value_counts())"
      ],
      "metadata": {
        "colab": {
          "base_uri": "https://localhost:8080/"
        },
        "id": "IZFbR9Og9hED",
        "outputId": "ad4e640f-1ec3-4de7-f5b6-5374956a59f3"
      },
      "execution_count": 29,
      "outputs": [
        {
          "output_type": "stream",
          "name": "stdout",
          "text": [
            "Loading dataset...\n",
            "\n",
            "Dataset Overview:\n",
            "Total samples: 4452\n",
            "\n",
            "Sample distribution by Catergory:\n",
            "Catergory\n",
            "volunteering               456\n",
            "laws_policies              456\n",
            "habitat_protection         456\n",
            "greetings                  324\n",
            "wildlife_threats           276\n",
            "fun_facts                  276\n",
            "technology                 276\n",
            "organizations              276\n",
            "animal_behavior            276\n",
            "education                  276\n",
            "eco_friendly_activities    276\n",
            "myths_facts                276\n",
            "emergencies                276\n",
            "climate_change             276\n",
            "Name: count, dtype: int64\n"
          ]
        }
      ]
    },
    {
      "cell_type": "markdown",
      "source": [
        "## **Data Preprocessing**"
      ],
      "metadata": {
        "id": "eDhMKD0iAJif"
      }
    },
    {
      "cell_type": "code",
      "source": [
        "# Data Preprocessing\n",
        "print(\"\\nPreprocessing data...\")\n",
        "\n",
        "# Initialize BERT models\n",
        "tokenizer = BertTokenizer.from_pretrained('bert-base-uncased')\n",
        "bert_model = BertModel.from_pretrained('bert-base-uncased')\n",
        "lemmatizer = WordNetLemmatizer()\n",
        "\n",
        "# Create intents dictionary\n",
        "dict_ = {\"Catergory\": []}\n",
        "for _, row in df.iterrows():\n",
        "    dict1 = {\n",
        "        'tags': [row['Catergory']],\n",
        "        'patterns': [row['Question'].strip('\"')],\n",
        "        'responses': [row['Answer'].strip('\"')]\n",
        "    }\n",
        "    dict_['Catergory'].append(dict1)\n",
        "\n",
        "# Save intents\n",
        "with open(\"Wildlifebot_Catergory.json\", \"w\") as f:\n",
        "    json.dump(dict_, f)\n",
        "\n",
        "# Initialize processing lists\n",
        "words = []\n",
        "classes = []\n",
        "documents = []\n",
        "ignore_letters = ['?', '!', '.', ',']"
      ],
      "metadata": {
        "colab": {
          "base_uri": "https://localhost:8080/"
        },
        "id": "9Gh7VGJJAGlz",
        "outputId": "fd93eea1-4b1d-4937-a59f-e4bddcd754ae"
      },
      "execution_count": 33,
      "outputs": [
        {
          "output_type": "stream",
          "name": "stdout",
          "text": [
            "\n",
            "Preprocessing data...\n"
          ]
        }
      ]
    },
    {
      "cell_type": "markdown",
      "source": [
        "## **Feature Extraction using BERT**"
      ],
      "metadata": {
        "id": "GkYt-kYrEEp5"
      }
    },
    {
      "cell_type": "code",
      "source": [
        "# Feature Extraction using BERT\n",
        "\n",
        "def get_bert_embedding(sentence):\n",
        "    \"\"\"Extract BERT embeddings for a given sentence\"\"\"\n",
        "    inputs = tokenizer(sentence, return_tensors='pt', padding=True, truncation=True)\n",
        "    with torch.no_grad():\n",
        "        outputs = bert_model(**inputs)\n",
        "    return outputs.last_hidden_state.mean(dim=1).detach().numpy()\n",
        "\n",
        "# Process intents\n",
        "for intent in dict_['Catergory']:\n",
        "    for pattern in intent['patterns']:\n",
        "        if isinstance(pattern, str):\n",
        "            word_list = tokenizer.tokenize(pattern)\n",
        "            words.extend(word_list)\n",
        "            documents.append((pattern, intent['tags'][0]))\n",
        "            if intent['tags'][0] not in classes:\n",
        "                classes.append(intent['tags'][0])\n",
        "\n",
        "# Lemmatize and sort words\n",
        "words = [lemmatizer.lemmatize(word.lower()) for word in words if word not in ignore_letters]\n",
        "words = sorted(set(words))\n",
        "classes = sorted(set(classes))\n",
        "\n",
        "# Save preprocessed data\n",
        "pickle.dump(words, open('wildlife_words.pkl', 'wb'))\n",
        "pickle.dump(classes, open('wildlife_classes.pkl', 'wb'))"
      ],
      "metadata": {
        "id": "TNEhVgedBAVb"
      },
      "execution_count": 36,
      "outputs": []
    },
    {
      "cell_type": "markdown",
      "source": [
        "## **Data Preparation**"
      ],
      "metadata": {
        "id": "KcKpq5FUEwkX"
      }
    },
    {
      "cell_type": "code",
      "source": [
        "# Prepare Training Data\n",
        "print(\"\\nPreparing training data...\")\n",
        "training = []\n",
        "label_binarizer = LabelBinarizer()\n",
        "label_binarizer.fit(classes)\n",
        "\n",
        "for document in documents:\n",
        "    pattern = document[0]\n",
        "    tag = document[1]\n",
        "    embedding = get_bert_embedding(pattern)\n",
        "    output_row = label_binarizer.transform([tag])[0]\n",
        "    training.append((embedding.flatten(), output_row))\n",
        "\n",
        "random.shuffle(training)\n",
        "training = np.array(training, dtype=object)\n",
        "\n",
        "# Split data into features and labels\n",
        "X = np.array([item[0] for item in training])\n",
        "y = np.array([item[1] for item in training])\n",
        "\n",
        "# Split into train and validation sets\n",
        "X_train, X_val, y_train, y_val = train_test_split(X, y, test_size=0.2, random_state=42)"
      ],
      "metadata": {
        "colab": {
          "base_uri": "https://localhost:8080/"
        },
        "id": "Z_3OX_fDE1nJ",
        "outputId": "5102bdf6-bcbb-48ac-c9c1-dd534272bd9e"
      },
      "execution_count": 45,
      "outputs": [
        {
          "output_type": "stream",
          "name": "stdout",
          "text": [
            "\n",
            "Preparing training data...\n"
          ]
        }
      ]
    },
    {
      "cell_type": "markdown",
      "source": [
        "## **Model Architecture**"
      ],
      "metadata": {
        "id": "1bccS8LzFP_Q"
      }
    },
    {
      "cell_type": "code",
      "source": [
        "# Model Architecture\n",
        "print(\"\\nBuilding model...\")\n",
        "model = Sequential()\n",
        "model.add(Dense(128, input_shape=(len(X_train[0]),), activation='relu'))\n",
        "model.add(Dropout(0.2))\n",
        "model.add(Dense(64, activation='relu'))\n",
        "model.add(Dropout(0.2))\n",
        "model.add(Dense(len(y_train[0]), activation='softmax'))\n",
        "\n",
        "# Learning rate schedule for better convergence\n",
        "lr_schedule = ExponentialDecay(\n",
        "    initial_learning_rate=0.0001,\n",
        "    decay_steps=100000,\n",
        "    decay_rate=0.96,\n",
        "    staircase=True\n",
        ")\n",
        "\n",
        "# Compile model with multiple metrics\n",
        "model.compile(loss='categorical_crossentropy',\n",
        "             optimizer='adam',\n",
        "             metrics=['accuracy', 'Precision', 'Recall'])\n",
        "\n",
        "print(\"\\nModel Summary:\")\n",
        "model.summary()"
      ],
      "metadata": {
        "colab": {
          "base_uri": "https://localhost:8080/",
          "height": 417
        },
        "id": "rdYP3peeFB4D",
        "outputId": "b3f8ee46-7d99-439e-b93f-5c00c51b5926"
      },
      "execution_count": 46,
      "outputs": [
        {
          "output_type": "stream",
          "name": "stdout",
          "text": [
            "\n",
            "Building model...\n"
          ]
        },
        {
          "output_type": "stream",
          "name": "stderr",
          "text": [
            "/usr/local/lib/python3.11/dist-packages/keras/src/layers/core/dense.py:87: UserWarning: Do not pass an `input_shape`/`input_dim` argument to a layer. When using Sequential models, prefer using an `Input(shape)` object as the first layer in the model instead.\n",
            "  super().__init__(activity_regularizer=activity_regularizer, **kwargs)\n"
          ]
        },
        {
          "output_type": "stream",
          "name": "stdout",
          "text": [
            "\n",
            "Model Summary:\n"
          ]
        },
        {
          "output_type": "display_data",
          "data": {
            "text/plain": [
              "\u001b[1mModel: \"sequential\"\u001b[0m\n"
            ],
            "text/html": [
              "<pre style=\"white-space:pre;overflow-x:auto;line-height:normal;font-family:Menlo,'DejaVu Sans Mono',consolas,'Courier New',monospace\"><span style=\"font-weight: bold\">Model: \"sequential\"</span>\n",
              "</pre>\n"
            ]
          },
          "metadata": {}
        },
        {
          "output_type": "display_data",
          "data": {
            "text/plain": [
              "┏━━━━━━━━━━━━━━━━━━━━━━━━━━━━━━━━━┳━━━━━━━━━━━━━━━━━━━━━━━━┳━━━━━━━━━━━━━━━┓\n",
              "┃\u001b[1m \u001b[0m\u001b[1mLayer (type)                   \u001b[0m\u001b[1m \u001b[0m┃\u001b[1m \u001b[0m\u001b[1mOutput Shape          \u001b[0m\u001b[1m \u001b[0m┃\u001b[1m \u001b[0m\u001b[1m      Param #\u001b[0m\u001b[1m \u001b[0m┃\n",
              "┡━━━━━━━━━━━━━━━━━━━━━━━━━━━━━━━━━╇━━━━━━━━━━━━━━━━━━━━━━━━╇━━━━━━━━━━━━━━━┩\n",
              "│ dense (\u001b[38;5;33mDense\u001b[0m)                   │ (\u001b[38;5;45mNone\u001b[0m, \u001b[38;5;34m128\u001b[0m)            │        \u001b[38;5;34m98,432\u001b[0m │\n",
              "├─────────────────────────────────┼────────────────────────┼───────────────┤\n",
              "│ dropout (\u001b[38;5;33mDropout\u001b[0m)               │ (\u001b[38;5;45mNone\u001b[0m, \u001b[38;5;34m128\u001b[0m)            │             \u001b[38;5;34m0\u001b[0m │\n",
              "├─────────────────────────────────┼────────────────────────┼───────────────┤\n",
              "│ dense_1 (\u001b[38;5;33mDense\u001b[0m)                 │ (\u001b[38;5;45mNone\u001b[0m, \u001b[38;5;34m64\u001b[0m)             │         \u001b[38;5;34m8,256\u001b[0m │\n",
              "├─────────────────────────────────┼────────────────────────┼───────────────┤\n",
              "│ dropout_1 (\u001b[38;5;33mDropout\u001b[0m)             │ (\u001b[38;5;45mNone\u001b[0m, \u001b[38;5;34m64\u001b[0m)             │             \u001b[38;5;34m0\u001b[0m │\n",
              "├─────────────────────────────────┼────────────────────────┼───────────────┤\n",
              "│ dense_2 (\u001b[38;5;33mDense\u001b[0m)                 │ (\u001b[38;5;45mNone\u001b[0m, \u001b[38;5;34m14\u001b[0m)             │           \u001b[38;5;34m910\u001b[0m │\n",
              "└─────────────────────────────────┴────────────────────────┴───────────────┘\n"
            ],
            "text/html": [
              "<pre style=\"white-space:pre;overflow-x:auto;line-height:normal;font-family:Menlo,'DejaVu Sans Mono',consolas,'Courier New',monospace\">┏━━━━━━━━━━━━━━━━━━━━━━━━━━━━━━━━━┳━━━━━━━━━━━━━━━━━━━━━━━━┳━━━━━━━━━━━━━━━┓\n",
              "┃<span style=\"font-weight: bold\"> Layer (type)                    </span>┃<span style=\"font-weight: bold\"> Output Shape           </span>┃<span style=\"font-weight: bold\">       Param # </span>┃\n",
              "┡━━━━━━━━━━━━━━━━━━━━━━━━━━━━━━━━━╇━━━━━━━━━━━━━━━━━━━━━━━━╇━━━━━━━━━━━━━━━┩\n",
              "│ dense (<span style=\"color: #0087ff; text-decoration-color: #0087ff\">Dense</span>)                   │ (<span style=\"color: #00d7ff; text-decoration-color: #00d7ff\">None</span>, <span style=\"color: #00af00; text-decoration-color: #00af00\">128</span>)            │        <span style=\"color: #00af00; text-decoration-color: #00af00\">98,432</span> │\n",
              "├─────────────────────────────────┼────────────────────────┼───────────────┤\n",
              "│ dropout (<span style=\"color: #0087ff; text-decoration-color: #0087ff\">Dropout</span>)               │ (<span style=\"color: #00d7ff; text-decoration-color: #00d7ff\">None</span>, <span style=\"color: #00af00; text-decoration-color: #00af00\">128</span>)            │             <span style=\"color: #00af00; text-decoration-color: #00af00\">0</span> │\n",
              "├─────────────────────────────────┼────────────────────────┼───────────────┤\n",
              "│ dense_1 (<span style=\"color: #0087ff; text-decoration-color: #0087ff\">Dense</span>)                 │ (<span style=\"color: #00d7ff; text-decoration-color: #00d7ff\">None</span>, <span style=\"color: #00af00; text-decoration-color: #00af00\">64</span>)             │         <span style=\"color: #00af00; text-decoration-color: #00af00\">8,256</span> │\n",
              "├─────────────────────────────────┼────────────────────────┼───────────────┤\n",
              "│ dropout_1 (<span style=\"color: #0087ff; text-decoration-color: #0087ff\">Dropout</span>)             │ (<span style=\"color: #00d7ff; text-decoration-color: #00d7ff\">None</span>, <span style=\"color: #00af00; text-decoration-color: #00af00\">64</span>)             │             <span style=\"color: #00af00; text-decoration-color: #00af00\">0</span> │\n",
              "├─────────────────────────────────┼────────────────────────┼───────────────┤\n",
              "│ dense_2 (<span style=\"color: #0087ff; text-decoration-color: #0087ff\">Dense</span>)                 │ (<span style=\"color: #00d7ff; text-decoration-color: #00d7ff\">None</span>, <span style=\"color: #00af00; text-decoration-color: #00af00\">14</span>)             │           <span style=\"color: #00af00; text-decoration-color: #00af00\">910</span> │\n",
              "└─────────────────────────────────┴────────────────────────┴───────────────┘\n",
              "</pre>\n"
            ]
          },
          "metadata": {}
        },
        {
          "output_type": "display_data",
          "data": {
            "text/plain": [
              "\u001b[1m Total params: \u001b[0m\u001b[38;5;34m107,598\u001b[0m (420.30 KB)\n"
            ],
            "text/html": [
              "<pre style=\"white-space:pre;overflow-x:auto;line-height:normal;font-family:Menlo,'DejaVu Sans Mono',consolas,'Courier New',monospace\"><span style=\"font-weight: bold\"> Total params: </span><span style=\"color: #00af00; text-decoration-color: #00af00\">107,598</span> (420.30 KB)\n",
              "</pre>\n"
            ]
          },
          "metadata": {}
        },
        {
          "output_type": "display_data",
          "data": {
            "text/plain": [
              "\u001b[1m Trainable params: \u001b[0m\u001b[38;5;34m107,598\u001b[0m (420.30 KB)\n"
            ],
            "text/html": [
              "<pre style=\"white-space:pre;overflow-x:auto;line-height:normal;font-family:Menlo,'DejaVu Sans Mono',consolas,'Courier New',monospace\"><span style=\"font-weight: bold\"> Trainable params: </span><span style=\"color: #00af00; text-decoration-color: #00af00\">107,598</span> (420.30 KB)\n",
              "</pre>\n"
            ]
          },
          "metadata": {}
        },
        {
          "output_type": "display_data",
          "data": {
            "text/plain": [
              "\u001b[1m Non-trainable params: \u001b[0m\u001b[38;5;34m0\u001b[0m (0.00 B)\n"
            ],
            "text/html": [
              "<pre style=\"white-space:pre;overflow-x:auto;line-height:normal;font-family:Menlo,'DejaVu Sans Mono',consolas,'Courier New',monospace\"><span style=\"font-weight: bold\"> Non-trainable params: </span><span style=\"color: #00af00; text-decoration-color: #00af00\">0</span> (0.00 B)\n",
              "</pre>\n"
            ]
          },
          "metadata": {}
        }
      ]
    },
    {
      "cell_type": "markdown",
      "source": [
        "## **Model Training**"
      ],
      "metadata": {
        "id": "HmS8M04xQE8d"
      }
    },
    {
      "cell_type": "code",
      "source": [
        "# Model Training\n",
        "print(\"\\nTraining model...\")\n",
        "history = model.fit(X_train, y_train,\n",
        "                   epochs=50,\n",
        "                   batch_size=12,\n",
        "                   validation_data=(X_val, y_val),\n",
        "                   verbose=1)"
      ],
      "metadata": {
        "colab": {
          "base_uri": "https://localhost:8080/"
        },
        "id": "cNYztjb8QIfA",
        "outputId": "c8e7910d-ee04-4b6b-8ab6-dd6f16c13d26"
      },
      "execution_count": 47,
      "outputs": [
        {
          "output_type": "stream",
          "name": "stdout",
          "text": [
            "\n",
            "Training model...\n",
            "Epoch 1/50\n",
            "\u001b[1m594/594\u001b[0m \u001b[32m━━━━━━━━━━━━━━━━━━━━\u001b[0m\u001b[37m\u001b[0m \u001b[1m5s\u001b[0m 5ms/step - Precision: 0.8709 - Recall: 0.3651 - accuracy: 0.5706 - loss: 1.3675 - val_Precision: 0.9960 - val_Recall: 0.9910 - val_accuracy: 0.9938 - val_loss: 0.0631\n",
            "Epoch 2/50\n",
            "\u001b[1m594/594\u001b[0m \u001b[32m━━━━━━━━━━━━━━━━━━━━\u001b[0m\u001b[37m\u001b[0m \u001b[1m5s\u001b[0m 5ms/step - Precision: 0.9819 - Recall: 0.9636 - accuracy: 0.9720 - loss: 0.1108 - val_Precision: 0.9961 - val_Recall: 0.9961 - val_accuracy: 0.9961 - val_loss: 0.0110\n",
            "Epoch 3/50\n",
            "\u001b[1m594/594\u001b[0m \u001b[32m━━━━━━━━━━━━━━━━━━━━\u001b[0m\u001b[37m\u001b[0m \u001b[1m5s\u001b[0m 4ms/step - Precision: 0.9899 - Recall: 0.9859 - accuracy: 0.9884 - loss: 0.0473 - val_Precision: 0.9961 - val_Recall: 0.9961 - val_accuracy: 0.9961 - val_loss: 0.0110\n",
            "Epoch 4/50\n",
            "\u001b[1m594/594\u001b[0m \u001b[32m━━━━━━━━━━━━━━━━━━━━\u001b[0m\u001b[37m\u001b[0m \u001b[1m2s\u001b[0m 4ms/step - Precision: 0.9936 - Recall: 0.9919 - accuracy: 0.9928 - loss: 0.0307 - val_Precision: 0.9961 - val_Recall: 0.9961 - val_accuracy: 0.9961 - val_loss: 0.0111\n",
            "Epoch 5/50\n",
            "\u001b[1m594/594\u001b[0m \u001b[32m━━━━━━━━━━━━━━━━━━━━\u001b[0m\u001b[37m\u001b[0m \u001b[1m5s\u001b[0m 7ms/step - Precision: 0.9942 - Recall: 0.9930 - accuracy: 0.9937 - loss: 0.0255 - val_Precision: 0.9983 - val_Recall: 0.9983 - val_accuracy: 0.9983 - val_loss: 0.0041\n",
            "Epoch 6/50\n",
            "\u001b[1m594/594\u001b[0m \u001b[32m━━━━━━━━━━━━━━━━━━━━\u001b[0m\u001b[37m\u001b[0m \u001b[1m2s\u001b[0m 4ms/step - Precision: 0.9914 - Recall: 0.9905 - accuracy: 0.9912 - loss: 0.0256 - val_Precision: 0.9961 - val_Recall: 0.9961 - val_accuracy: 0.9961 - val_loss: 0.0054\n",
            "Epoch 7/50\n",
            "\u001b[1m594/594\u001b[0m \u001b[32m━━━━━━━━━━━━━━━━━━━━\u001b[0m\u001b[37m\u001b[0m \u001b[1m3s\u001b[0m 4ms/step - Precision: 0.9906 - Recall: 0.9878 - accuracy: 0.9892 - loss: 0.0284 - val_Precision: 0.9983 - val_Recall: 0.9983 - val_accuracy: 0.9983 - val_loss: 0.0037\n",
            "Epoch 8/50\n",
            "\u001b[1m594/594\u001b[0m \u001b[32m━━━━━━━━━━━━━━━━━━━━\u001b[0m\u001b[37m\u001b[0m \u001b[1m2s\u001b[0m 4ms/step - Precision: 0.9941 - Recall: 0.9934 - accuracy: 0.9935 - loss: 0.0185 - val_Precision: 0.9978 - val_Recall: 0.9978 - val_accuracy: 0.9978 - val_loss: 0.0040\n",
            "Epoch 9/50\n",
            "\u001b[1m594/594\u001b[0m \u001b[32m━━━━━━━━━━━━━━━━━━━━\u001b[0m\u001b[37m\u001b[0m \u001b[1m3s\u001b[0m 4ms/step - Precision: 0.9933 - Recall: 0.9929 - accuracy: 0.9933 - loss: 0.0178 - val_Precision: 0.9983 - val_Recall: 0.9983 - val_accuracy: 0.9983 - val_loss: 0.0037\n",
            "Epoch 10/50\n",
            "\u001b[1m594/594\u001b[0m \u001b[32m━━━━━━━━━━━━━━━━━━━━\u001b[0m\u001b[37m\u001b[0m \u001b[1m5s\u001b[0m 4ms/step - Precision: 0.9906 - Recall: 0.9894 - accuracy: 0.9902 - loss: 0.0253 - val_Precision: 0.9961 - val_Recall: 0.9961 - val_accuracy: 0.9961 - val_loss: 0.0071\n",
            "Epoch 11/50\n",
            "\u001b[1m594/594\u001b[0m \u001b[32m━━━━━━━━━━━━━━━━━━━━\u001b[0m\u001b[37m\u001b[0m \u001b[1m3s\u001b[0m 4ms/step - Precision: 0.9955 - Recall: 0.9952 - accuracy: 0.9954 - loss: 0.0112 - val_Precision: 0.9961 - val_Recall: 0.9961 - val_accuracy: 0.9961 - val_loss: 0.0103\n",
            "Epoch 12/50\n",
            "\u001b[1m594/594\u001b[0m \u001b[32m━━━━━━━━━━━━━━━━━━━━\u001b[0m\u001b[37m\u001b[0m \u001b[1m2s\u001b[0m 4ms/step - Precision: 0.9949 - Recall: 0.9944 - accuracy: 0.9949 - loss: 0.0136 - val_Precision: 0.9933 - val_Recall: 0.9933 - val_accuracy: 0.9933 - val_loss: 0.0122\n",
            "Epoch 13/50\n",
            "\u001b[1m594/594\u001b[0m \u001b[32m━━━━━━━━━━━━━━━━━━━━\u001b[0m\u001b[37m\u001b[0m \u001b[1m3s\u001b[0m 4ms/step - Precision: 0.9940 - Recall: 0.9940 - accuracy: 0.9940 - loss: 0.0139 - val_Precision: 0.9983 - val_Recall: 0.9983 - val_accuracy: 0.9983 - val_loss: 0.0039\n",
            "Epoch 14/50\n",
            "\u001b[1m594/594\u001b[0m \u001b[32m━━━━━━━━━━━━━━━━━━━━\u001b[0m\u001b[37m\u001b[0m \u001b[1m5s\u001b[0m 4ms/step - Precision: 0.9962 - Recall: 0.9954 - accuracy: 0.9959 - loss: 0.0094 - val_Precision: 0.9966 - val_Recall: 0.9966 - val_accuracy: 0.9966 - val_loss: 0.0053\n",
            "Epoch 15/50\n",
            "\u001b[1m594/594\u001b[0m \u001b[32m━━━━━━━━━━━━━━━━━━━━\u001b[0m\u001b[37m\u001b[0m \u001b[1m3s\u001b[0m 4ms/step - Precision: 0.9910 - Recall: 0.9910 - accuracy: 0.9910 - loss: 0.0233 - val_Precision: 0.9961 - val_Recall: 0.9961 - val_accuracy: 0.9961 - val_loss: 0.0044\n",
            "Epoch 16/50\n",
            "\u001b[1m594/594\u001b[0m \u001b[32m━━━━━━━━━━━━━━━━━━━━\u001b[0m\u001b[37m\u001b[0m \u001b[1m3s\u001b[0m 4ms/step - Precision: 0.9893 - Recall: 0.9889 - accuracy: 0.9889 - loss: 0.0345 - val_Precision: 0.9961 - val_Recall: 0.9961 - val_accuracy: 0.9961 - val_loss: 0.0048\n",
            "Epoch 17/50\n",
            "\u001b[1m594/594\u001b[0m \u001b[32m━━━━━━━━━━━━━━━━━━━━\u001b[0m\u001b[37m\u001b[0m \u001b[1m3s\u001b[0m 5ms/step - Precision: 0.9974 - Recall: 0.9974 - accuracy: 0.9974 - loss: 0.0049 - val_Precision: 0.9961 - val_Recall: 0.9961 - val_accuracy: 0.9961 - val_loss: 0.0062\n",
            "Epoch 18/50\n",
            "\u001b[1m594/594\u001b[0m \u001b[32m━━━━━━━━━━━━━━━━━━━━\u001b[0m\u001b[37m\u001b[0m \u001b[1m4s\u001b[0m 6ms/step - Precision: 0.9983 - Recall: 0.9982 - accuracy: 0.9982 - loss: 0.0040 - val_Precision: 0.9961 - val_Recall: 0.9961 - val_accuracy: 0.9961 - val_loss: 0.0048\n",
            "Epoch 19/50\n",
            "\u001b[1m594/594\u001b[0m \u001b[32m━━━━━━━━━━━━━━━━━━━━\u001b[0m\u001b[37m\u001b[0m \u001b[1m4s\u001b[0m 5ms/step - Precision: 0.9939 - Recall: 0.9937 - accuracy: 0.9937 - loss: 0.0156 - val_Precision: 0.9961 - val_Recall: 0.9961 - val_accuracy: 0.9961 - val_loss: 0.0073\n",
            "Epoch 20/50\n",
            "\u001b[1m594/594\u001b[0m \u001b[32m━━━━━━━━━━━━━━━━━━━━\u001b[0m\u001b[37m\u001b[0m \u001b[1m2s\u001b[0m 4ms/step - Precision: 0.9927 - Recall: 0.9923 - accuracy: 0.9923 - loss: 0.0194 - val_Precision: 0.9983 - val_Recall: 0.9983 - val_accuracy: 0.9983 - val_loss: 0.0035\n",
            "Epoch 21/50\n",
            "\u001b[1m594/594\u001b[0m \u001b[32m━━━━━━━━━━━━━━━━━━━━\u001b[0m\u001b[37m\u001b[0m \u001b[1m2s\u001b[0m 4ms/step - Precision: 0.9961 - Recall: 0.9958 - accuracy: 0.9959 - loss: 0.0079 - val_Precision: 0.9983 - val_Recall: 0.9983 - val_accuracy: 0.9983 - val_loss: 0.0035\n",
            "Epoch 22/50\n",
            "\u001b[1m594/594\u001b[0m \u001b[32m━━━━━━━━━━━━━━━━━━━━\u001b[0m\u001b[37m\u001b[0m \u001b[1m5s\u001b[0m 8ms/step - Precision: 0.9923 - Recall: 0.9917 - accuracy: 0.9922 - loss: 0.0226 - val_Precision: 0.9961 - val_Recall: 0.9961 - val_accuracy: 0.9961 - val_loss: 0.0049\n",
            "Epoch 23/50\n",
            "\u001b[1m594/594\u001b[0m \u001b[32m━━━━━━━━━━━━━━━━━━━━\u001b[0m\u001b[37m\u001b[0m \u001b[1m3s\u001b[0m 4ms/step - Precision: 0.9970 - Recall: 0.9969 - accuracy: 0.9969 - loss: 0.0071 - val_Precision: 0.9983 - val_Recall: 0.9983 - val_accuracy: 0.9983 - val_loss: 0.0041\n",
            "Epoch 24/50\n",
            "\u001b[1m594/594\u001b[0m \u001b[32m━━━━━━━━━━━━━━━━━━━━\u001b[0m\u001b[37m\u001b[0m \u001b[1m2s\u001b[0m 4ms/step - Precision: 0.9941 - Recall: 0.9940 - accuracy: 0.9940 - loss: 0.0123 - val_Precision: 0.9983 - val_Recall: 0.9983 - val_accuracy: 0.9983 - val_loss: 0.0038\n",
            "Epoch 25/50\n",
            "\u001b[1m594/594\u001b[0m \u001b[32m━━━━━━━━━━━━━━━━━━━━\u001b[0m\u001b[37m\u001b[0m \u001b[1m3s\u001b[0m 4ms/step - Precision: 0.9936 - Recall: 0.9930 - accuracy: 0.9930 - loss: 0.0214 - val_Precision: 0.9961 - val_Recall: 0.9961 - val_accuracy: 0.9961 - val_loss: 0.0066\n",
            "Epoch 26/50\n",
            "\u001b[1m594/594\u001b[0m \u001b[32m━━━━━━━━━━━━━━━━━━━━\u001b[0m\u001b[37m\u001b[0m \u001b[1m3s\u001b[0m 6ms/step - Precision: 0.9967 - Recall: 0.9966 - accuracy: 0.9967 - loss: 0.0071 - val_Precision: 0.9983 - val_Recall: 0.9983 - val_accuracy: 0.9983 - val_loss: 0.0034\n",
            "Epoch 27/50\n",
            "\u001b[1m594/594\u001b[0m \u001b[32m━━━━━━━━━━━━━━━━━━━━\u001b[0m\u001b[37m\u001b[0m \u001b[1m4s\u001b[0m 4ms/step - Precision: 0.9944 - Recall: 0.9942 - accuracy: 0.9943 - loss: 0.0140 - val_Precision: 0.9961 - val_Recall: 0.9961 - val_accuracy: 0.9961 - val_loss: 0.0044\n",
            "Epoch 28/50\n",
            "\u001b[1m594/594\u001b[0m \u001b[32m━━━━━━━━━━━━━━━━━━━━\u001b[0m\u001b[37m\u001b[0m \u001b[1m3s\u001b[0m 4ms/step - Precision: 0.9961 - Recall: 0.9950 - accuracy: 0.9950 - loss: 0.0124 - val_Precision: 0.9961 - val_Recall: 0.9961 - val_accuracy: 0.9961 - val_loss: 0.0047\n",
            "Epoch 29/50\n",
            "\u001b[1m594/594\u001b[0m \u001b[32m━━━━━━━━━━━━━━━━━━━━\u001b[0m\u001b[37m\u001b[0m \u001b[1m3s\u001b[0m 4ms/step - Precision: 0.9955 - Recall: 0.9955 - accuracy: 0.9955 - loss: 0.0108 - val_Precision: 0.9961 - val_Recall: 0.9961 - val_accuracy: 0.9961 - val_loss: 0.0041\n",
            "Epoch 30/50\n",
            "\u001b[1m594/594\u001b[0m \u001b[32m━━━━━━━━━━━━━━━━━━━━\u001b[0m\u001b[37m\u001b[0m \u001b[1m3s\u001b[0m 5ms/step - Precision: 0.9963 - Recall: 0.9963 - accuracy: 0.9963 - loss: 0.0059 - val_Precision: 0.9961 - val_Recall: 0.9961 - val_accuracy: 0.9961 - val_loss: 0.0043\n",
            "Epoch 31/50\n",
            "\u001b[1m594/594\u001b[0m \u001b[32m━━━━━━━━━━━━━━━━━━━━\u001b[0m\u001b[37m\u001b[0m \u001b[1m4s\u001b[0m 6ms/step - Precision: 0.9922 - Recall: 0.9918 - accuracy: 0.9919 - loss: 0.0233 - val_Precision: 0.9961 - val_Recall: 0.9961 - val_accuracy: 0.9961 - val_loss: 0.0042\n",
            "Epoch 32/50\n",
            "\u001b[1m594/594\u001b[0m \u001b[32m━━━━━━━━━━━━━━━━━━━━\u001b[0m\u001b[37m\u001b[0m \u001b[1m4s\u001b[0m 4ms/step - Precision: 0.9954 - Recall: 0.9952 - accuracy: 0.9952 - loss: 0.0141 - val_Precision: 0.9961 - val_Recall: 0.9961 - val_accuracy: 0.9961 - val_loss: 0.0045\n",
            "Epoch 33/50\n",
            "\u001b[1m594/594\u001b[0m \u001b[32m━━━━━━━━━━━━━━━━━━━━\u001b[0m\u001b[37m\u001b[0m \u001b[1m3s\u001b[0m 4ms/step - Precision: 0.9972 - Recall: 0.9970 - accuracy: 0.9973 - loss: 0.0057 - val_Precision: 0.9961 - val_Recall: 0.9961 - val_accuracy: 0.9961 - val_loss: 0.0043\n",
            "Epoch 34/50\n",
            "\u001b[1m594/594\u001b[0m \u001b[32m━━━━━━━━━━━━━━━━━━━━\u001b[0m\u001b[37m\u001b[0m \u001b[1m2s\u001b[0m 4ms/step - Precision: 0.9960 - Recall: 0.9956 - accuracy: 0.9959 - loss: 0.0078 - val_Precision: 0.9961 - val_Recall: 0.9961 - val_accuracy: 0.9961 - val_loss: 0.0054\n",
            "Epoch 35/50\n",
            "\u001b[1m594/594\u001b[0m \u001b[32m━━━━━━━━━━━━━━━━━━━━\u001b[0m\u001b[37m\u001b[0m \u001b[1m5s\u001b[0m 7ms/step - Precision: 0.9939 - Recall: 0.9937 - accuracy: 0.9937 - loss: 0.0144 - val_Precision: 0.9983 - val_Recall: 0.9983 - val_accuracy: 0.9983 - val_loss: 0.0036\n",
            "Epoch 36/50\n",
            "\u001b[1m594/594\u001b[0m \u001b[32m━━━━━━━━━━━━━━━━━━━━\u001b[0m\u001b[37m\u001b[0m \u001b[1m2s\u001b[0m 4ms/step - Precision: 0.9958 - Recall: 0.9958 - accuracy: 0.9958 - loss: 0.0061 - val_Precision: 0.9961 - val_Recall: 0.9961 - val_accuracy: 0.9961 - val_loss: 0.0061\n",
            "Epoch 37/50\n",
            "\u001b[1m594/594\u001b[0m \u001b[32m━━━━━━━━━━━━━━━━━━━━\u001b[0m\u001b[37m\u001b[0m \u001b[1m2s\u001b[0m 4ms/step - Precision: 0.9954 - Recall: 0.9954 - accuracy: 0.9954 - loss: 0.0141 - val_Precision: 0.9961 - val_Recall: 0.9961 - val_accuracy: 0.9961 - val_loss: 0.0053\n",
            "Epoch 38/50\n",
            "\u001b[1m594/594\u001b[0m \u001b[32m━━━━━━━━━━━━━━━━━━━━\u001b[0m\u001b[37m\u001b[0m \u001b[1m2s\u001b[0m 4ms/step - Precision: 0.9959 - Recall: 0.9957 - accuracy: 0.9959 - loss: 0.0103 - val_Precision: 0.9961 - val_Recall: 0.9961 - val_accuracy: 0.9961 - val_loss: 0.0048\n",
            "Epoch 39/50\n",
            "\u001b[1m594/594\u001b[0m \u001b[32m━━━━━━━━━━━━━━━━━━━━\u001b[0m\u001b[37m\u001b[0m \u001b[1m2s\u001b[0m 4ms/step - Precision: 0.9915 - Recall: 0.9913 - accuracy: 0.9913 - loss: 0.0249 - val_Precision: 0.9961 - val_Recall: 0.9961 - val_accuracy: 0.9961 - val_loss: 0.0046\n",
            "Epoch 40/50\n",
            "\u001b[1m594/594\u001b[0m \u001b[32m━━━━━━━━━━━━━━━━━━━━\u001b[0m\u001b[37m\u001b[0m \u001b[1m5s\u001b[0m 8ms/step - Precision: 0.9963 - Recall: 0.9962 - accuracy: 0.9962 - loss: 0.0081 - val_Precision: 0.9961 - val_Recall: 0.9961 - val_accuracy: 0.9961 - val_loss: 0.0048\n",
            "Epoch 41/50\n",
            "\u001b[1m594/594\u001b[0m \u001b[32m━━━━━━━━━━━━━━━━━━━━\u001b[0m\u001b[37m\u001b[0m \u001b[1m3s\u001b[0m 4ms/step - Precision: 0.9948 - Recall: 0.9947 - accuracy: 0.9948 - loss: 0.0085 - val_Precision: 0.9983 - val_Recall: 0.9983 - val_accuracy: 0.9983 - val_loss: 0.0036\n",
            "Epoch 42/50\n",
            "\u001b[1m594/594\u001b[0m \u001b[32m━━━━━━━━━━━━━━━━━━━━\u001b[0m\u001b[37m\u001b[0m \u001b[1m3s\u001b[0m 4ms/step - Precision: 0.9973 - Recall: 0.9969 - accuracy: 0.9973 - loss: 0.0047 - val_Precision: 0.9983 - val_Recall: 0.9983 - val_accuracy: 0.9983 - val_loss: 0.0036\n",
            "Epoch 43/50\n",
            "\u001b[1m594/594\u001b[0m \u001b[32m━━━━━━━━━━━━━━━━━━━━\u001b[0m\u001b[37m\u001b[0m \u001b[1m3s\u001b[0m 5ms/step - Precision: 0.9963 - Recall: 0.9954 - accuracy: 0.9961 - loss: 0.0093 - val_Precision: 0.9961 - val_Recall: 0.9961 - val_accuracy: 0.9961 - val_loss: 0.0062\n",
            "Epoch 44/50\n",
            "\u001b[1m594/594\u001b[0m \u001b[32m━━━━━━━━━━━━━━━━━━━━\u001b[0m\u001b[37m\u001b[0m \u001b[1m6s\u001b[0m 6ms/step - Precision: 0.9939 - Recall: 0.9938 - accuracy: 0.9938 - loss: 0.0164 - val_Precision: 0.9960 - val_Recall: 0.9905 - val_accuracy: 0.9961 - val_loss: 0.0103\n",
            "Epoch 45/50\n",
            "\u001b[1m594/594\u001b[0m \u001b[32m━━━━━━━━━━━━━━━━━━━━\u001b[0m\u001b[37m\u001b[0m \u001b[1m4s\u001b[0m 4ms/step - Precision: 0.9950 - Recall: 0.9950 - accuracy: 0.9950 - loss: 0.0167 - val_Precision: 0.9961 - val_Recall: 0.9961 - val_accuracy: 0.9961 - val_loss: 0.0043\n",
            "Epoch 46/50\n",
            "\u001b[1m594/594\u001b[0m \u001b[32m━━━━━━━━━━━━━━━━━━━━\u001b[0m\u001b[37m\u001b[0m \u001b[1m6s\u001b[0m 5ms/step - Precision: 0.9972 - Recall: 0.9972 - accuracy: 0.9972 - loss: 0.0057 - val_Precision: 0.9961 - val_Recall: 0.9961 - val_accuracy: 0.9961 - val_loss: 0.0050\n",
            "Epoch 47/50\n",
            "\u001b[1m594/594\u001b[0m \u001b[32m━━━━━━━━━━━━━━━━━━━━\u001b[0m\u001b[37m\u001b[0m \u001b[1m4s\u001b[0m 6ms/step - Precision: 0.9980 - Recall: 0.9978 - accuracy: 0.9978 - loss: 0.0036 - val_Precision: 0.9983 - val_Recall: 0.9983 - val_accuracy: 0.9983 - val_loss: 0.0037\n",
            "Epoch 48/50\n",
            "\u001b[1m594/594\u001b[0m \u001b[32m━━━━━━━━━━━━━━━━━━━━\u001b[0m\u001b[37m\u001b[0m \u001b[1m3s\u001b[0m 5ms/step - Precision: 0.9941 - Recall: 0.9939 - accuracy: 0.9941 - loss: 0.0201 - val_Precision: 0.9961 - val_Recall: 0.9961 - val_accuracy: 0.9961 - val_loss: 0.0054\n",
            "Epoch 49/50\n",
            "\u001b[1m594/594\u001b[0m \u001b[32m━━━━━━━━━━━━━━━━━━━━\u001b[0m\u001b[37m\u001b[0m \u001b[1m3s\u001b[0m 4ms/step - Precision: 0.9957 - Recall: 0.9957 - accuracy: 0.9957 - loss: 0.0121 - val_Precision: 0.9983 - val_Recall: 0.9983 - val_accuracy: 0.9983 - val_loss: 0.0038\n",
            "Epoch 50/50\n",
            "\u001b[1m594/594\u001b[0m \u001b[32m━━━━━━━━━━━━━━━━━━━━\u001b[0m\u001b[37m\u001b[0m \u001b[1m3s\u001b[0m 4ms/step - Precision: 0.9951 - Recall: 0.9950 - accuracy: 0.9950 - loss: 0.0134 - val_Precision: 0.9961 - val_Recall: 0.9961 - val_accuracy: 0.9961 - val_loss: 0.0048\n"
          ]
        }
      ]
    },
    {
      "cell_type": "markdown",
      "source": [
        "## **Model Evaluation**"
      ],
      "metadata": {
        "id": "vU1sB_8eRbbE"
      }
    },
    {
      "cell_type": "code",
      "source": [
        "# Model Evaluation\n",
        "\n",
        "print(\"\\nEvaluating model...\")\n",
        "\n",
        "# Plot training history\n",
        "plt.figure(figsize=(12, 4))\n",
        "\n",
        "plt.subplot(1, 2, 1)\n",
        "plt.plot(history.history['accuracy'], label='Training Accuracy')\n",
        "plt.plot(history.history['val_accuracy'], label='Validation Accuracy')\n",
        "plt.title('Model Accuracy')\n",
        "plt.xlabel('Epoch')\n",
        "plt.ylabel('Accuracy')\n",
        "plt.legend()\n",
        "\n",
        "plt.subplot(1, 2, 2)\n",
        "plt.plot(history.history['loss'], label='Training Loss')\n",
        "plt.plot(history.history['val_loss'], label='Validation Loss')\n",
        "plt.title('Model Loss')\n",
        "plt.xlabel('Epoch')\n",
        "plt.ylabel('Loss')\n",
        "plt.legend()\n",
        "\n",
        "plt.tight_layout()\n",
        "plt.show()\n",
        "\n",
        "# Calculate validation metrics\n",
        "y_pred = model.predict(X_val)\n",
        "y_pred_classes = np.argmax(y_pred, axis=1)\n",
        "y_val_classes = np.argmax(y_val, axis=1)\n",
        "\n",
        "print(\"\\nValidation Metrics:\")\n",
        "print(f\"Accuracy: {accuracy_score(y_val_classes, y_pred_classes):.4f}\")\n",
        "print(f\"F1 Score: {f1_score(y_val_classes, y_pred_classes, average='weighted'):.4f}\")\n",
        "\n",
        "# Plot confusion matrix\n",
        "cm = confusion_matrix(y_val_classes, y_pred_classes)\n",
        "plt.figure(figsize=(10, 8))\n",
        "sns.heatmap(cm, annot=True, fmt='d', cmap='Blues')\n",
        "plt.title('Confusion Matrix')\n",
        "plt.xlabel('Predicted')\n",
        "plt.ylabel('True')\n",
        "plt.show()"
      ],
      "metadata": {
        "colab": {
          "base_uri": "https://localhost:8080/",
          "height": 1000
        },
        "id": "8-EkDH3LRWWw",
        "outputId": "85f6137c-436d-4458-fd68-634590931586"
      },
      "execution_count": 50,
      "outputs": [
        {
          "output_type": "stream",
          "name": "stdout",
          "text": [
            "\n",
            "Evaluating model...\n"
          ]
        },
        {
          "output_type": "display_data",
          "data": {
            "text/plain": [
              "<Figure size 1200x400 with 2 Axes>"
            ],
            "image/png": "[encoded data removed]"
          },
          "metadata": {}
        },
        {
          "output_type": "stream",
          "name": "stdout",
          "text": [
            "\u001b[1m56/56\u001b[0m \u001b[32m━━━━━━━━━━━━━━━━━━━━\u001b[0m\u001b[37m\u001b[0m \u001b[1m1s\u001b[0m 10ms/step\n",
            "\n",
            "Validation Metrics:\n",
            "Accuracy: 0.9961\n",
            "F1 Score: 0.9960\n"
          ]
        },
        {
          "output_type": "display_data",
          "data": {
            "text/plain": [
              "<Figure size 1000x800 with 2 Axes>"
            ],
            "image/png": "[encoded data removed]"
          },
          "metadata": {}
        }
      ]
    },
    {
      "cell_type": "markdown",
      "source": [
        "## **Save Model**"
      ],
      "metadata": {
        "id": "2jXHtsXuR2Nu"
      }
    },
    {
      "cell_type": "code",
      "source": [
        "# Save Model\n",
        "model.save('wildlife_chatbot_model.h5')\n",
        "print(\"\\nModel saved successfully!\")"
      ],
      "metadata": {
        "colab": {
          "base_uri": "https://localhost:8080/"
        },
        "id": "QL2ItTiKRXX1",
        "outputId": "eaf65b3a-a861-4e99-aaeb-2a712e319eb4"
      },
      "execution_count": 52,
      "outputs": [
        {
          "output_type": "stream",
          "name": "stderr",
          "text": [
            "WARNING:absl:You are saving your model as an HDF5 file via `model.save()` or `keras.saving.save_model(model)`. This file format is considered legacy. We recommend using instead the native Keras format, e.g. `model.save('my_model.keras')` or `keras.saving.save_model(model, 'my_model.keras')`. \n"
          ]
        },
        {
          "output_type": "stream",
          "name": "stdout",
          "text": [
            "\n",
            "Model saved successfully!\n"
          ]
        }
      ]
    },
    {
      "cell_type": "markdown",
      "source": [
        "## **Chatbot Interface**"
      ],
      "metadata": {
        "id": "gZ0YyRV_Uwvj"
      }
    },
    {
      "cell_type": "code",
      "source": [
        "# Chatbot Interface\n",
        "def predict_class(sentence):\n",
        "    \"\"\"Predict the intent class of a given sentence\"\"\"\n",
        "    embedding = get_bert_embedding(sentence)\n",
        "    res = model.predict(embedding)[0]\n",
        "    ERROR_THRESHOLD = 0.25\n",
        "    results = [[i, r] for i, r in enumerate(res) if r > ERROR_THRESHOLD]\n",
        "    results.sort(key=lambda x: x[1], reverse=True)\n",
        "    return_list = [{'Catergory': classes[r[0]], 'probability': str(r[1])} for r in results]\n",
        "    return return_list\n",
        "\n",
        "def get_response(intents_list, intents_json):\n",
        "    \"\"\"Get appropriate response based on predicted Catergory\"\"\"\n",
        "    if not intents_list:\n",
        "        return \"I'm not sure how to help with that. Could you rephrase your question?\"\n",
        "    tag = intents_list[0]['Catergory']\n",
        "    for i in intents_json['Catergory']:\n",
        "        if tag in i['tags']:\n",
        "            return random.choice(i['responses'])\n",
        "    return \"I don't understand. Could you try asking in a different way?\""
      ],
      "metadata": {
        "id": "VY9GXywZSRZv"
      },
      "execution_count": 53,
      "outputs": []
    },
    {
      "cell_type": "code",
      "source": [
        "# 1. First, let's modify the predict_class function to be more strict\n",
        "def predict_class(text):\n",
        "    embedding = get_bert_embedding(text)\n",
        "    pred = model.predict(embedding)\n",
        "\n",
        "    # Only consider predictions with >50% confidence\n",
        "    results = [[i, r] for i, r in enumerate(pred[0]) if r > 0.5]\n",
        "\n",
        "    if not results:  # If no confident predictions\n",
        "        return None\n",
        "\n",
        "    results.sort(key=lambda x: x[1], reverse=True)\n",
        "    return [{\"Catergory\": classes[r[0]],\n",
        "             \"probability\": str(r[1]),\n",
        "             \"pattern\": text} for r in results]\n",
        "\n",
        "# 2. Enhanced get_response function\n",
        "def get_response(intents_list, intents_data):\n",
        "    if not intents_list:\n",
        "        return \"I'm not sure about that wildlife topic. Could you be more specific?\"\n",
        "\n",
        "    best_match = intents_list[0]\n",
        "    category = best_match['Catergory']\n",
        "    user_input = best_match['pattern'].lower()\n",
        "\n",
        "    # Find all possible responses for this category\n",
        "    possible_responses = []\n",
        "    for intent in intents_data['Catergory']:\n",
        "        if category in intent['tags']:\n",
        "            # Check if user input closely matches any pattern\n",
        "            for pattern in intent['patterns']:\n",
        "                if user_input in pattern.lower() or pattern.lower() in user_input:\n",
        "                    return random.choice(intent['responses'])\n",
        "            possible_responses.extend(intent['responses'])\n",
        "\n",
        "    if possible_responses:\n",
        "        return random.choice(possible_responses)\n",
        "    return \"I don't have information on that specific topic.\"\n",
        "\n",
        "# 3. Updated Interactive Testing\n",
        "print(\"\\n🌿 Wildlife Conservation Expert (type 'quit' to exit)\")\n",
        "\n",
        "while True:\n",
        "    message = input(\"\\nYou: \").strip()\n",
        "    if message.lower() in ['quit', 'exit']:\n",
        "        print(\"🦉 Thank you for supporting wildlife conservation!\")\n",
        "        break\n",
        "\n",
        "    ints = predict_class(message)\n",
        "    response = get_response(ints, dict_)\n",
        "\n",
        "    print(f\"\\nBot: {response}\")\n",
        "    if ints:\n",
        "        print(f\"Category: {ints[0]['Catergory']}\")\n",
        "        print(f\"Confidence: {float(ints[0]['probability']):.0%}\")\n",
        "\n",
        "    # Show suggestions if confidence is low or no match\n",
        "    if not ints or float(ints[0]['probability']) < 0.6:\n",
        "        print(\"\\nTry asking about:\")\n",
        "        print(\"- Animal habitats ('where do pandas live?')\")\n",
        "        print(\"- Conservation efforts ('how can I help tigers?')\")\n",
        "        print(\"- Volunteer opportunities ('can students volunteer?')\")"
      ],
      "metadata": {
        "colab": {
          "base_uri": "https://localhost:8080/"
        },
        "id": "aZlLz-rdc7uS",
        "outputId": "29196ac7-1a1f-4cf4-9983-748ad049588b"
      },
      "execution_count": null,
      "outputs": [
        {
          "output_type": "stream",
          "name": "stdout",
          "text": [
            "\n",
            "🌿 Wildlife Conservation Expert (type 'quit' to exit)\n",
            "\n",
            "You: hi\n",
            "\u001b[1m1/1\u001b[0m \u001b[32m━━━━━━━━━━━━━━━━━━━━\u001b[0m\u001b[37m\u001b[0m \u001b[1m0s\u001b[0m 38ms/step\n",
            "\n",
            "Bot: Hello! How can I assist you with wildlife conservation today?\n",
            "Category: greetings\n",
            "Confidence: 100%\n",
            "\n",
            "You: hello\n",
            "\u001b[1m1/1\u001b[0m \u001b[32m━━━━━━━━━━━━━━━━━━━━\u001b[0m\u001b[37m\u001b[0m \u001b[1m0s\u001b[0m 37ms/step\n",
            "\n",
            "Bot: Hi there! How can I support your conservation journey today?\n",
            "Category: greetings\n",
            "Confidence: 100%\n",
            "\n",
            "You: Good morning?\n",
            "\u001b[1m1/1\u001b[0m \u001b[32m━━━━━━━━━━━━━━━━━━━━\u001b[0m\u001b[37m\u001b[0m \u001b[1m0s\u001b[0m 35ms/step\n",
            "\n",
            "Bot: Good morning! Ready to explore the world of wildlife?\n",
            "Category: greetings\n",
            "Confidence: 100%\n",
            "\n",
            "You: Good evening\n",
            "\u001b[1m1/1\u001b[0m \u001b[32m━━━━━━━━━━━━━━━━━━━━\u001b[0m\u001b[37m\u001b[0m \u001b[1m0s\u001b[0m 37ms/step\n",
            "\n",
            "Bot: Good evening! Curious about animals or conservation topics?\n",
            "Category: greetings\n",
            "Confidence: 100%\n",
            "\n",
            "You: Hello bot\n",
            "\u001b[1m1/1\u001b[0m \u001b[32m━━━━━━━━━━━━━━━━━━━━\u001b[0m\u001b[37m\u001b[0m \u001b[1m0s\u001b[0m 35ms/step\n",
            "\n",
            "Bot: Hi there! How can I support your conservation journey today?\n",
            "Category: greetings\n",
            "Confidence: 100%\n",
            "\n",
            "You: bot\n",
            "\u001b[1m1/1\u001b[0m \u001b[32m━━━━━━━━━━━━━━━━━━━━\u001b[0m\u001b[37m\u001b[0m \u001b[1m0s\u001b[0m 38ms/step\n",
            "\n",
            "Bot: Hello! I'm  your conservation guide‚ how can I help you?\n",
            "Category: greetings\n",
            "Confidence: 100%\n",
            "\n",
            "You: Good day\n",
            "\u001b[1m1/1\u001b[0m \u001b[32m━━━━━━━━━━━━━━━━━━━━\u001b[0m\u001b[37m\u001b[0m \u001b[1m0s\u001b[0m 36ms/step\n",
            "\n",
            "Bot: Good day! How can I help protect the wild with you today?\n",
            "Category: greetings\n",
            "Confidence: 100%\n",
            "\n",
            "You: How do animals raise babies?\n",
            "\u001b[1m1/1\u001b[0m \u001b[32m━━━━━━━━━━━━━━━━━━━━\u001b[0m\u001b[37m\u001b[0m \u001b[1m0s\u001b[0m 71ms/step\n",
            "\n",
            "Bot: Parents feed, protect, and teach their young how to survive.\n",
            "Category: animal_behavior\n",
            "Confidence: 100%\n"
          ]
        }
      ]
    },
    {
      "cell_type": "code",
      "source": [],
      "metadata": {
        "id": "ds-eC5Ojdl1d"
      },
      "execution_count": null,
      "outputs": []
    }
  ]
}